{
 "cells": [
  {
   "cell_type": "markdown",
   "metadata": {},
   "source": [
    "# 波士顿房价预测案例——线性回归分析\n",
    "\n",
    "在这个案例中，将利用波士顿郊区的房屋信息数据训练和测试一个模型，并对模型的性能和预测能力进行测试。\n",
    "\n",
    "该数据集来自UCI机器学习知识库。波士顿房屋这些数据于1978年开始统计，共506个数据点，涵盖了麻省波士顿不同郊区房屋13种特征和房价的信息。\n",
    "\n",
    "本项目将原始数据集存为csv格式，方便调用pandas做数据分析。"
   ]
  },
  {
   "cell_type": "markdown",
   "metadata": {},
   "source": [
    "## 1、导入必要的工具包"
   ]
  },
  {
   "cell_type": "code",
   "execution_count": 1,
   "metadata": {},
   "outputs": [],
   "source": [
    "import numpy as np  # 矩阵操作\n",
    "import pandas as pd # SQL数据处理\n",
    "\n",
    "from sklearn.metrics import r2_score  #评价回归预测模型的性能\n",
    "\n",
    "import matplotlib.pyplot as plt   #画图\n",
    "import seaborn as sns\n",
    "\n",
    "# 图形出现在Notebook里而不是新窗口\n",
    "%matplotlib inline"
   ]
  },
  {
   "cell_type": "markdown",
   "metadata": {},
   "source": [
    "## 工具包解释\n",
    "\n",
    "N维矩阵  2:实用的线性代数、傅里叶变换和随机数学生成函数\n",
    "import numpy as np\n",
    "\n",
    "读取文件用的\n",
    "import pandas as pd\n",
    "\n",
    "2D图形绘制工具\n",
    "import matplotlib.pyplot as plt\n",
    "\n",
    "封装了 matplotlib\n",
    "import seaborn as sns\n",
    "\n",
    "color = sns.color_palette()\n",
    "\n",
    "%matplotlib inline  #当前可视化 "
   ]
  },
  {
   "cell_type": "markdown",
   "metadata": {},
   "source": [
    "## 2、数据探索"
   ]
  },
  {
   "cell_type": "markdown",
   "metadata": {},
   "source": [
    "### 2.1 读取数据"
   ]
  },
  {
   "cell_type": "code",
   "execution_count": 2,
   "metadata": {},
   "outputs": [
    {
     "data": {
      "text/html": [
       "<div>\n",
       "<style scoped>\n",
       "    .dataframe tbody tr th:only-of-type {\n",
       "        vertical-align: middle;\n",
       "    }\n",
       "\n",
       "    .dataframe tbody tr th {\n",
       "        vertical-align: top;\n",
       "    }\n",
       "\n",
       "    .dataframe thead th {\n",
       "        text-align: right;\n",
       "    }\n",
       "</style>\n",
       "<table border=\"1\" class=\"dataframe\">\n",
       "  <thead>\n",
       "    <tr style=\"text-align: right;\">\n",
       "      <th></th>\n",
       "      <th>CRIM</th>\n",
       "      <th>ZN</th>\n",
       "      <th>INDUS</th>\n",
       "      <th>CHAS</th>\n",
       "      <th>NOX</th>\n",
       "      <th>RM</th>\n",
       "      <th>AGE</th>\n",
       "      <th>DIS</th>\n",
       "      <th>RAD</th>\n",
       "      <th>TAX</th>\n",
       "      <th>PTRATIO</th>\n",
       "      <th>B</th>\n",
       "      <th>LSTAT</th>\n",
       "      <th>MEDV</th>\n",
       "    </tr>\n",
       "  </thead>\n",
       "  <tbody>\n",
       "    <tr>\n",
       "      <th>0</th>\n",
       "      <td>0.00632</td>\n",
       "      <td>18</td>\n",
       "      <td>2.31</td>\n",
       "      <td>0</td>\n",
       "      <td>0.538</td>\n",
       "      <td>6.575</td>\n",
       "      <td>65.2</td>\n",
       "      <td>4.0900</td>\n",
       "      <td>1</td>\n",
       "      <td>296</td>\n",
       "      <td>15</td>\n",
       "      <td>396.90</td>\n",
       "      <td>4.98</td>\n",
       "      <td>24.0</td>\n",
       "    </tr>\n",
       "    <tr>\n",
       "      <th>1</th>\n",
       "      <td>0.02731</td>\n",
       "      <td>0</td>\n",
       "      <td>7.07</td>\n",
       "      <td>0</td>\n",
       "      <td>0.469</td>\n",
       "      <td>6.421</td>\n",
       "      <td>78.9</td>\n",
       "      <td>4.9671</td>\n",
       "      <td>2</td>\n",
       "      <td>242</td>\n",
       "      <td>17</td>\n",
       "      <td>396.90</td>\n",
       "      <td>9.14</td>\n",
       "      <td>21.6</td>\n",
       "    </tr>\n",
       "    <tr>\n",
       "      <th>2</th>\n",
       "      <td>0.02729</td>\n",
       "      <td>0</td>\n",
       "      <td>7.07</td>\n",
       "      <td>0</td>\n",
       "      <td>0.469</td>\n",
       "      <td>7.185</td>\n",
       "      <td>61.1</td>\n",
       "      <td>4.9671</td>\n",
       "      <td>2</td>\n",
       "      <td>242</td>\n",
       "      <td>17</td>\n",
       "      <td>392.83</td>\n",
       "      <td>4.03</td>\n",
       "      <td>34.7</td>\n",
       "    </tr>\n",
       "    <tr>\n",
       "      <th>3</th>\n",
       "      <td>0.03237</td>\n",
       "      <td>0</td>\n",
       "      <td>2.18</td>\n",
       "      <td>0</td>\n",
       "      <td>0.458</td>\n",
       "      <td>6.998</td>\n",
       "      <td>45.8</td>\n",
       "      <td>6.0622</td>\n",
       "      <td>3</td>\n",
       "      <td>222</td>\n",
       "      <td>18</td>\n",
       "      <td>394.63</td>\n",
       "      <td>2.94</td>\n",
       "      <td>33.4</td>\n",
       "    </tr>\n",
       "    <tr>\n",
       "      <th>4</th>\n",
       "      <td>0.06905</td>\n",
       "      <td>0</td>\n",
       "      <td>2.18</td>\n",
       "      <td>0</td>\n",
       "      <td>0.458</td>\n",
       "      <td>7.147</td>\n",
       "      <td>54.2</td>\n",
       "      <td>6.0622</td>\n",
       "      <td>3</td>\n",
       "      <td>222</td>\n",
       "      <td>18</td>\n",
       "      <td>396.90</td>\n",
       "      <td>5.33</td>\n",
       "      <td>36.2</td>\n",
       "    </tr>\n",
       "  </tbody>\n",
       "</table>\n",
       "</div>"
      ],
      "text/plain": [
       "      CRIM  ZN  INDUS  CHAS    NOX     RM   AGE     DIS  RAD  TAX  PTRATIO  \\\n",
       "0  0.00632  18   2.31     0  0.538  6.575  65.2  4.0900    1  296       15   \n",
       "1  0.02731   0   7.07     0  0.469  6.421  78.9  4.9671    2  242       17   \n",
       "2  0.02729   0   7.07     0  0.469  7.185  61.1  4.9671    2  242       17   \n",
       "3  0.03237   0   2.18     0  0.458  6.998  45.8  6.0622    3  222       18   \n",
       "4  0.06905   0   2.18     0  0.458  7.147  54.2  6.0622    3  222       18   \n",
       "\n",
       "        B  LSTAT  MEDV  \n",
       "0  396.90   4.98  24.0  \n",
       "1  396.90   9.14  21.6  \n",
       "2  392.83   4.03  34.7  \n",
       "3  394.63   2.94  33.4  \n",
       "4  396.90   5.33  36.2  "
      ]
     },
     "execution_count": 2,
     "metadata": {},
     "output_type": "execute_result"
    }
   ],
   "source": [
    "#读取csv文件\n",
    "data = pd.read_csv(\"boston_housing.csv\")\n",
    "\n",
    "#通过观察前5行，了解数据每列（特征）的概况\n",
    "data.head()"
   ]
  },
  {
   "cell_type": "markdown",
   "metadata": {},
   "source": [
    "## 数据字段分析\n",
    "CRIM:城镇人均犯罪率\n",
    "\n",
    "ZN:住宅用地超过25000 sq.ft的比例\n",
    "\n",
    "INDUS:城镇非零售商用土地的比例\n",
    "\n",
    "CHAS:是否在查理斯河边(如果是就为1  不是就为0)\n",
    "\n",
    "NOX:一氧化氮浓度\n",
    "\n",
    "RM:住宅平均房间数\n",
    "\n",
    "AGE:1940年之前建成的自用房屋比例\n",
    "\n",
    "DIS:到波士顿5个中心区域的加权距离\n",
    "\n",
    "RAD:辐射性公里路的接近指数\n",
    "\n",
    "TAX：每10000美元的全职财产税率\n",
    "\n",
    "PTRATIO:城镇师生比例\n",
    "\n",
    "B:城镇中黑人的比例\n",
    "\n",
    "LSTAT:人口中地位低下者的比例\n",
    "\n",
    "输出:地区房价的平均值y\n",
    "\n",
    "MEDV:自住房的平均房价(单位:千美元)"
   ]
  },
  {
   "cell_type": "markdown",
   "metadata": {},
   "source": [
    "###  2.2 数据基本信息\n",
    "样本数目、特征维数\n",
    "每个特征的类型、空值样本的数目、数据类型"
   ]
  },
  {
   "cell_type": "code",
   "execution_count": 3,
   "metadata": {},
   "outputs": [
    {
     "data": {
      "text/plain": [
       "(506, 14)"
      ]
     },
     "execution_count": 3,
     "metadata": {},
     "output_type": "execute_result"
    }
   ],
   "source": [
    "data.shape\n",
    "#(506, 14)  506行   14列"
   ]
  },
  {
   "cell_type": "markdown",
   "metadata": {},
   "source": [
    "### 2.3 数据探索\n",
    "请见另一个文件：BostonHousePrice-draw.ipynb\n",
    "\n",
    "对数据的探索有助于我们在第三步中根据数据的特点选择合适的模型类型"
   ]
  },
  {
   "cell_type": "markdown",
   "metadata": {},
   "source": [
    "### 2.4 数据准备"
   ]
  },
  {
   "cell_type": "code",
   "execution_count": 15,
   "metadata": {},
   "outputs": [
    {
     "name": "stdout",
     "output_type": "stream",
     "text": [
      "y = data['MEDV'].values--------------------------------\n",
      "[24.  21.6 34.7 33.4 36.2 28.7 22.9 27.1 16.5 18.9 15.  18.9 21.7 20.4\n",
      " 18.2 19.9 23.1 17.5 20.2 18.2 13.6 19.6 15.2 14.5 15.6 13.9 16.6 14.8\n",
      " 18.4 21.  12.7 14.5 13.2 13.1 13.5 18.9 20.  21.  24.7 30.8 34.9 26.6\n",
      " 25.3 24.7 21.2 19.3 20.  16.6 14.4 19.4 19.7 20.5 25.  23.4 18.9 35.4\n",
      " 24.7 31.6 23.3 19.6 18.7 16.  22.2 25.  33.  23.5 19.4 22.  17.4 20.9\n",
      " 24.2 21.7 22.8 23.4 24.1 21.4 20.  20.8 21.2 20.3 28.  23.9 24.8 22.9\n",
      " 23.9 26.6 22.5 22.2 23.6 28.7 22.6 22.  22.9 25.  20.6 28.4 21.4 38.7\n",
      " 43.8 33.2 27.5 26.5 18.6 19.3 20.1 19.5 19.5 20.4 19.8 19.4 21.7 22.8\n",
      " 18.8 18.7 18.5 18.3 21.2 19.2 20.4 19.3 22.  20.3 20.5 17.3 18.8 21.4\n",
      " 15.7 16.2 18.  14.3 19.2 19.6 23.  18.4 15.6 18.1 17.4 17.1 13.3 17.8\n",
      " 14.  14.4 13.4 15.6 11.8 13.8 15.6 14.6 17.8 15.4 21.5 19.6 15.3 19.4\n",
      " 17.  15.6 13.1 41.3 24.3 23.3 27.  50.  50.  50.  22.7 25.  50.  23.8\n",
      " 23.8 22.3 17.4 19.1 23.1 23.6 22.6 29.4 23.2 24.6 29.9 37.2 39.8 36.2\n",
      " 37.9 32.5 26.4 29.6 50.  32.  29.8 34.9 37.  30.5 36.4 31.1 29.1 50.\n",
      " 33.3 30.3 34.6 34.9 32.9 24.1 42.3 48.5 50.  22.6 24.4 22.5 24.4 20.\n",
      " 21.7 19.3 22.4 28.1 23.7 25.  23.3 28.7 21.5 23.  26.7 21.7 27.5 30.1\n",
      " 44.8 50.  37.6 31.6 46.7 31.5 24.3 31.7 41.7 48.3 29.  24.  25.1 31.5\n",
      " 23.7 23.3 22.  20.1 22.2 23.7 17.6 18.5 24.3 20.5 24.5 26.2 24.4 24.8\n",
      " 29.6 42.8 21.9 20.9 44.  50.  36.  30.1 33.8 43.1 48.8 31.  36.5 22.8\n",
      " 30.7 50.  43.5 20.7 21.1 25.2 24.4 35.2 32.4 32.  33.2 33.1 29.1 35.1\n",
      " 45.4 35.4 46.  50.  32.2 22.  20.1 23.2 22.3 24.8 28.5 37.3 27.9 23.9\n",
      " 21.7 28.6 27.1 20.3 22.5 29.  24.8 22.  26.4 33.1 36.1 28.4 33.4 28.2\n",
      " 22.8 20.3 16.1 22.1 19.4 21.6 23.8 16.2 17.8 19.8 23.1 21.  23.8 23.1\n",
      " 20.4 18.5 25.  24.6 23.  22.2 19.3 22.6 19.8 17.1 19.4 22.2 20.7 21.1\n",
      " 19.5 18.5 20.6 19.  18.7 32.7 16.5 23.9 31.2 17.5 17.2 23.1 24.5 26.6\n",
      " 22.9 24.1 18.6 30.1 18.2 20.6 17.8 21.7 22.7 22.6 25.  19.9 20.8 16.8\n",
      " 21.9 27.5 21.9 23.1 50.  50.  50.  50.  50.  13.8 13.8 15.  13.9 13.3\n",
      " 13.1 10.2 10.4 10.9 11.3 12.3  8.8  7.2 10.5  7.4 10.2 11.5 15.1 23.2\n",
      "  9.7 13.8 12.7 13.1 12.5  8.5  5.   6.3  5.6  7.2 12.1  8.3  8.5  5.\n",
      " 11.9 27.9 17.2 27.5 15.  17.2 17.9 16.3  7.   7.2  7.5 10.4  8.8  8.4\n",
      " 16.7 14.2 20.8 13.4 11.7  8.3 10.2 10.9 11.   9.5 14.5 14.1 16.1 14.3\n",
      " 11.7 13.4  9.6  8.7  8.4 12.8 10.5 17.1 18.4 15.4 10.8 11.8 14.9 12.6\n",
      " 14.1 13.  13.4 15.2 16.1 17.8 14.9 14.1 12.7 13.5 14.9 20.  16.4 17.7\n",
      " 19.5 20.2 21.4 19.9 19.  19.1 19.1 20.1 19.9 19.6 23.2 29.8 13.8 13.3\n",
      " 16.7 12.  14.6 21.4 23.  23.7 25.  21.8 20.6 21.2 19.1 20.6 15.2  7.\n",
      "  8.1 13.6 20.1 21.8 24.5 23.1 19.7 18.3 21.2 17.5 16.8 22.4 20.6 23.9\n",
      " 22.  11.9]\n",
      "X = data.drop('MEDV', axis = 1)\n",
      "         CRIM  ZN  INDUS  CHAS    NOX     RM    AGE     DIS  RAD  TAX  \\\n",
      "0     0.00632  18   2.31     0  0.538  6.575   65.2  4.0900    1  296   \n",
      "1     0.02731   0   7.07     0  0.469  6.421   78.9  4.9671    2  242   \n",
      "2     0.02729   0   7.07     0  0.469  7.185   61.1  4.9671    2  242   \n",
      "3     0.03237   0   2.18     0  0.458  6.998   45.8  6.0622    3  222   \n",
      "4     0.06905   0   2.18     0  0.458  7.147   54.2  6.0622    3  222   \n",
      "5     0.02985   0   2.18     0  0.458  6.430   58.7  6.0622    3  222   \n",
      "6     0.08829  12   7.87     0  0.524  6.012   66.6  5.5605    5  311   \n",
      "7     0.14455  12   7.87     0  0.524  6.172   96.1  5.9505    5  311   \n",
      "8     0.21124  12   7.87     0  0.524  5.631  100.0  6.0821    5  311   \n",
      "9     0.17004  12   7.87     0  0.524  6.004   85.9  6.5921    5  311   \n",
      "10    0.22489  12   7.87     0  0.524  6.377   94.3  6.3467    5  311   \n",
      "11    0.11747  12   7.87     0  0.524  6.009   82.9  6.2267    5  311   \n",
      "12    0.09378  12   7.87     0  0.524  5.889   39.0  5.4509    5  311   \n",
      "13    0.62976   0   8.14     0  0.538  5.949   61.8  4.7075    4  307   \n",
      "14    0.63796   0   8.14     0  0.538  6.096   84.5  4.4619    4  307   \n",
      "15    0.62739   0   8.14     0  0.538  5.834   56.5  4.4986    4  307   \n",
      "16    1.05393   0   8.14     0  0.538  5.935   29.3  4.4986    4  307   \n",
      "17    0.78420   0   8.14     0  0.538  5.990   81.7  4.2579    4  307   \n",
      "18    0.80271   0   8.14     0  0.538  5.456   36.6  3.7965    4  307   \n",
      "19    0.72580   0   8.14     0  0.538  5.727   69.5  3.7965    4  307   \n",
      "20    1.25179   0   8.14     0  0.538  5.570   98.1  3.7979    4  307   \n",
      "21    0.85204   0   8.14     0  0.538  5.965   89.2  4.0123    4  307   \n",
      "22    1.23247   0   8.14     0  0.538  6.142   91.7  3.9769    4  307   \n",
      "23    0.98843   0   8.14     0  0.538  5.813  100.0  4.0952    4  307   \n",
      "24    0.75026   0   8.14     0  0.538  5.924   94.1  4.3996    4  307   \n",
      "25    0.84054   0   8.14     0  0.538  5.599   85.7  4.4546    4  307   \n",
      "26    0.67191   0   8.14     0  0.538  5.813   90.3  4.6820    4  307   \n",
      "27    0.95577   0   8.14     0  0.538  6.047   88.8  4.4534    4  307   \n",
      "28    0.77299   0   8.14     0  0.538  6.495   94.4  4.4547    4  307   \n",
      "29    1.00245   0   8.14     0  0.538  6.674   87.3  4.2390    4  307   \n",
      "..        ...  ..    ...   ...    ...    ...    ...     ...  ...  ...   \n",
      "476   4.87141   0  18.10     0  0.614  6.484   93.6  2.3053   24  666   \n",
      "477  15.02340   0  18.10     0  0.614  5.304   97.3  2.1007   24  666   \n",
      "478  10.23300   0  18.10     0  0.614  6.185   96.7  2.1705   24  666   \n",
      "479  14.33370   0  18.10     0  0.614  6.229   88.0  1.9512   24  666   \n",
      "480   5.82401   0  18.10     0  0.532  6.242   64.7  3.4242   24  666   \n",
      "481   5.70818   0  18.10     0  0.532  6.750   74.9  3.3317   24  666   \n",
      "482   5.73116   0  18.10     0  0.532  7.061   77.0  3.4106   24  666   \n",
      "483   2.81838   0  18.10     0  0.532  5.762   40.3  4.0983   24  666   \n",
      "484   2.37857   0  18.10     0  0.583  5.871   41.9  3.7240   24  666   \n",
      "485   3.67367   0  18.10     0  0.583  6.312   51.9  3.9917   24  666   \n",
      "486   5.69175   0  18.10     0  0.583  6.114   79.8  3.5459   24  666   \n",
      "487   4.83567   0  18.10     0  0.583  5.905   53.2  3.1523   24  666   \n",
      "488   0.15086   0  27.74     0  0.609  5.454   92.7  1.8209    4  711   \n",
      "489   0.18337   0  27.74     0  0.609  5.414   98.3  1.7554    4  711   \n",
      "490   0.20746   0  27.74     0  0.609  5.093   98.0  1.8226    4  711   \n",
      "491   0.10574   0  27.74     0  0.609  5.983   98.8  1.8681    4  711   \n",
      "492   0.11132   0  27.74     0  0.609  5.983   83.5  2.1099    4  711   \n",
      "493   0.17331   0   9.69     0  0.585  5.707   54.0  2.3817    6  391   \n",
      "494   0.27957   0   9.69     0  0.585  5.926   42.6  2.3817    6  391   \n",
      "495   0.17899   0   9.69     0  0.585  5.670   28.8  2.7986    6  391   \n",
      "496   0.28960   0   9.69     0  0.585  5.390   72.9  2.7986    6  391   \n",
      "497   0.26838   0   9.69     0  0.585  5.794   70.6  2.8927    6  391   \n",
      "498   0.23912   0   9.69     0  0.585  6.019   65.3  2.4091    6  391   \n",
      "499   0.17783   0   9.69     0  0.585  5.569   73.5  2.3999    6  391   \n",
      "500   0.22438   0   9.69     0  0.585  6.027   79.7  2.4982    6  391   \n",
      "501   0.06263   0  11.93     0  0.573  6.593   69.1  2.4786    1  273   \n",
      "502   0.04527   0  11.93     0  0.573  6.120   76.7  2.2875    1  273   \n",
      "503   0.06076   0  11.93     0  0.573  6.976   91.0  2.1675    1  273   \n",
      "504   0.10959   0  11.93     0  0.573  6.794   89.3  2.3889    1  273   \n",
      "505   0.04741   0  11.93     0  0.573  6.030   80.8  2.5050    1  273   \n",
      "\n",
      "     PTRATIO       B  LSTAT  \n",
      "0         15  396.90   4.98  \n",
      "1         17  396.90   9.14  \n",
      "2         17  392.83   4.03  \n",
      "3         18  394.63   2.94  \n",
      "4         18  396.90   5.33  \n",
      "5         18  394.12   5.21  \n",
      "6         15  395.60  12.43  \n",
      "7         15  396.90  19.15  \n",
      "8         15  386.63  29.93  \n",
      "9         15  386.71  17.10  \n",
      "10        15  392.52  20.45  \n",
      "11        15  396.90  13.27  \n",
      "12        15  390.50  15.71  \n",
      "13        21  396.90   8.26  \n",
      "14        21  380.02  10.26  \n",
      "15        21  395.62   8.47  \n",
      "16        21  386.85   6.58  \n",
      "17        21  386.75  14.67  \n",
      "18        21  288.99  11.69  \n",
      "19        21  390.95  11.28  \n",
      "20        21  376.57  21.02  \n",
      "21        21  392.53  13.83  \n",
      "22        21  396.90  18.72  \n",
      "23        21  394.54  19.88  \n",
      "24        21  394.33  16.30  \n",
      "25        21  303.42  16.51  \n",
      "26        21  376.88  14.81  \n",
      "27        21  306.38  17.28  \n",
      "28        21  387.94  12.80  \n",
      "29        21  380.23  11.98  \n",
      "..       ...     ...    ...  \n",
      "476       20  396.21  18.68  \n",
      "477       20  349.48  24.91  \n",
      "478       20  379.70  18.03  \n",
      "479       20  383.32  13.11  \n",
      "480       20  396.90  10.74  \n",
      "481       20  393.07   7.74  \n",
      "482       20  395.28   7.01  \n",
      "483       20  392.92  10.42  \n",
      "484       20  370.73  13.34  \n",
      "485       20  388.62  10.58  \n",
      "486       20  392.68  14.98  \n",
      "487       20  388.22  11.45  \n",
      "488       20  395.09  18.06  \n",
      "489       20  344.05  23.97  \n",
      "490       20  318.43  29.68  \n",
      "491       20  390.11  18.07  \n",
      "492       20  396.90  13.35  \n",
      "493       19  396.90  12.01  \n",
      "494       19  396.90  13.59  \n",
      "495       19  393.29  17.60  \n",
      "496       19  396.90  21.14  \n",
      "497       19  396.90  14.10  \n",
      "498       19  396.90  12.92  \n",
      "499       19  395.77  15.10  \n",
      "500       19  396.90  14.33  \n",
      "501       21  391.99   9.67  \n",
      "502       21  396.90   9.08  \n",
      "503       21  396.90   5.64  \n",
      "504       21  393.45   6.48  \n",
      "505       21  396.90   7.88  \n",
      "\n",
      "[506 rows x 13 columns]\n",
      "columns = X.columns\n",
      "Index([u'CRIM', u'ZN', u'INDUS', u'CHAS', u'NOX', u'RM', u'AGE', u'DIS',\n",
      "       u'RAD', u'TAX', u'PTRATIO', u'B', u'LSTAT'],\n",
      "      dtype='object')\n"
     ]
    }
   ],
   "source": [
    "# 从原始数据中分离输入特征x和输出y\n",
    "y = data['MEDV'].values  #房价\n",
    "X = data.drop('MEDV', axis = 1)  #  把拿出来的房价删除\n",
    "\n",
    "#获取所有的x轴列表\n",
    "columns = X.columns\n",
    "\n",
    "\n",
    "#结果 \n",
    "\n",
    "print \"y = data['MEDV'].values--------------------------------\"\n",
    "print y\n",
    "\n",
    "\n",
    "print \"X = data.drop('MEDV', axis = 1)\"\n",
    "print X\n",
    "\n",
    "print \"columns = X.columns\"\n",
    "print columns"
   ]
  },
  {
   "cell_type": "markdown",
   "metadata": {},
   "source": [
    "当数据量比较大时，可用train_test_split从训练集中分出一部分做校验集；\n",
    "样本数目较少时，建议用交叉验证\n",
    "在线性回归中，留一交叉验证有简便计算方式，无需显式交叉验证\n",
    "\n",
    "下面将训练数据分割成训练集和测试集，只是让大家对模型的训练误差、校验集上的测试误差估计、和测试集上的测试误差做个比较，实际任务中无需这么处理。"
   ]
  },
  {
   "cell_type": "code",
   "execution_count": 16,
   "metadata": {},
   "outputs": [
    {
     "data": {
      "text/plain": [
       "(404, 13)"
      ]
     },
     "execution_count": 16,
     "metadata": {},
     "output_type": "execute_result"
    }
   ],
   "source": [
    "#将数据分割训练数据与测试数据\n",
    "from sklearn.model_selection import train_test_split\n",
    "\n",
    "# 随机采样20%的数据构建测试样本，其余作为训练样本\n",
    "X_train, X_test, y_train, y_test = train_test_split(X, y, random_state=33, test_size=0.2)\n",
    "\n",
    "X_train.shape"
   ]
  },
  {
   "cell_type": "markdown",
   "metadata": {},
   "source": [
    "### 2.5 数据预处理／特征工程\n",
    "\n",
    "特征工程是实际任务中特别重要的环节。\n",
    "\n",
    "scikit learn中提供的数据预处理功能：\n",
    "http://scikit-learn.org/stable/modules/preprocessing.html\n",
    "http://scikit-learn.org/stable/modules/classes.html#module- sklearn.feature_extraction"
   ]
  },
  {
   "cell_type": "code",
   "execution_count": 17,
   "metadata": {},
   "outputs": [],
   "source": [
    "#发现各特征差异较大，需要进行数据标准化预处理\n",
    "#标准化的目的在于避免原始特征值差异过大，导致训练得到的参数权重不归一，无法比较各特征的重要性"
   ]
  },
  {
   "cell_type": "code",
   "execution_count": 28,
   "metadata": {},
   "outputs": [],
   "source": [
    "# 数据标准化\n",
    "from sklearn.preprocessing import StandardScaler\n",
    "\n",
    "# 分别初始化对特征和目标值的标准化器\n",
    "ss_X = StandardScaler()\n",
    "ss_y = StandardScaler()\n",
    "\n",
    "# 分别对训练和测试数据的特征以及目标值进行标准化处理\n",
    "X_train = ss_X.fit_transform(X_train)\n",
    "X_test = ss_X.transform(X_test)\n",
    "\n",
    "#对y做标准化不是必须\n",
    "#对y标准化的好处是不同问题的w差异不太大，同时正则参数的范围也有限\n",
    "y_train = ss_y.fit_transform(y_train.reshape(-1, 1))\n",
    "#y_train.reshape(-1, 1)   因为数据y本来不是列表形式，是单个数值  所以要把他变成列表形式\n",
    "\n",
    "y_test = ss_y.transform(y_test.reshape(-1, 1))\n",
    "#y_test.reshape(-1, 1) 因为数据y本来不是列表形式，是单个数值  所以要把他变成列表形式"
   ]
  },
  {
   "cell_type": "markdown",
   "metadata": {},
   "source": [
    "## 3、确定模型类型"
   ]
  },
  {
   "cell_type": "markdown",
   "metadata": {},
   "source": [
    "### 3.1 尝试缺省参数的线性回归"
   ]
  },
  {
   "cell_type": "code",
   "execution_count": 30,
   "metadata": {},
   "outputs": [
    {
     "data": {
      "text/html": [
       "<div>\n",
       "<style scoped>\n",
       "    .dataframe tbody tr th:only-of-type {\n",
       "        vertical-align: middle;\n",
       "    }\n",
       "\n",
       "    .dataframe tbody tr th {\n",
       "        vertical-align: top;\n",
       "    }\n",
       "\n",
       "    .dataframe thead th {\n",
       "        text-align: right;\n",
       "    }\n",
       "</style>\n",
       "<table border=\"1\" class=\"dataframe\">\n",
       "  <thead>\n",
       "    <tr style=\"text-align: right;\">\n",
       "      <th></th>\n",
       "      <th>coef</th>\n",
       "      <th>columns</th>\n",
       "    </tr>\n",
       "  </thead>\n",
       "  <tbody>\n",
       "    <tr>\n",
       "      <th>5</th>\n",
       "      <td>[0.30530891681378025]</td>\n",
       "      <td>RM</td>\n",
       "    </tr>\n",
       "    <tr>\n",
       "      <th>8</th>\n",
       "      <td>[0.2942941972949127]</td>\n",
       "      <td>RAD</td>\n",
       "    </tr>\n",
       "    <tr>\n",
       "      <th>1</th>\n",
       "      <td>[0.13238196484647677]</td>\n",
       "      <td>ZN</td>\n",
       "    </tr>\n",
       "    <tr>\n",
       "      <th>3</th>\n",
       "      <td>[0.0824451197457175]</td>\n",
       "      <td>CHAS</td>\n",
       "    </tr>\n",
       "    <tr>\n",
       "      <th>11</th>\n",
       "      <td>[0.08015874110027914]</td>\n",
       "      <td>B</td>\n",
       "    </tr>\n",
       "    <tr>\n",
       "      <th>2</th>\n",
       "      <td>[0.025206297687588752]</td>\n",
       "      <td>INDUS</td>\n",
       "    </tr>\n",
       "    <tr>\n",
       "      <th>6</th>\n",
       "      <td>[-0.004298410016809584]</td>\n",
       "      <td>AGE</td>\n",
       "    </tr>\n",
       "    <tr>\n",
       "      <th>0</th>\n",
       "      <td>[-0.10643777294175867]</td>\n",
       "      <td>CRIM</td>\n",
       "    </tr>\n",
       "    <tr>\n",
       "      <th>4</th>\n",
       "      <td>[-0.177051234119966]</td>\n",
       "      <td>NOX</td>\n",
       "    </tr>\n",
       "    <tr>\n",
       "      <th>10</th>\n",
       "      <td>[-0.1893158468598821]</td>\n",
       "      <td>PTRATIO</td>\n",
       "    </tr>\n",
       "    <tr>\n",
       "      <th>9</th>\n",
       "      <td>[-0.24568976848877366]</td>\n",
       "      <td>TAX</td>\n",
       "    </tr>\n",
       "    <tr>\n",
       "      <th>7</th>\n",
       "      <td>[-0.3372624511468355]</td>\n",
       "      <td>DIS</td>\n",
       "    </tr>\n",
       "    <tr>\n",
       "      <th>12</th>\n",
       "      <td>[-0.4334082833774195]</td>\n",
       "      <td>LSTAT</td>\n",
       "    </tr>\n",
       "  </tbody>\n",
       "</table>\n",
       "</div>"
      ],
      "text/plain": [
       "                       coef  columns\n",
       "5     [0.30530891681378025]       RM\n",
       "8      [0.2942941972949127]      RAD\n",
       "1     [0.13238196484647677]       ZN\n",
       "3      [0.0824451197457175]     CHAS\n",
       "11    [0.08015874110027914]        B\n",
       "2    [0.025206297687588752]    INDUS\n",
       "6   [-0.004298410016809584]      AGE\n",
       "0    [-0.10643777294175867]     CRIM\n",
       "4      [-0.177051234119966]      NOX\n",
       "10    [-0.1893158468598821]  PTRATIO\n",
       "9    [-0.24568976848877366]      TAX\n",
       "7     [-0.3372624511468355]      DIS\n",
       "12    [-0.4334082833774195]    LSTAT"
      ]
     },
     "execution_count": 30,
     "metadata": {},
     "output_type": "execute_result"
    }
   ],
   "source": [
    "# 线性回归\n",
    "#class sklearn.linear_model.LinearRegression(fit_intercept=True, normalize=False, copy_X=True, n_jobs=1)\n",
    "#fit_intercept=True  是否训练并且迭代\n",
    "#normalize=False  是否标准化\n",
    "#copy_X=True  是否复制x轴的值\n",
    "#n_jobs=1  开启多少个线程\n",
    "\n",
    "from sklearn.linear_model import LinearRegression\n",
    "\n",
    "# 使用默认配置初始化\n",
    "lr = LinearRegression()\n",
    "\n",
    "# 训练模型参数\n",
    "lr.fit(X_train, y_train)\n",
    "\n",
    "# 预测\n",
    "y_test_pred_lr = lr.predict(X_test)\n",
    "y_train_pred_lr = lr.predict(X_train)\n",
    "\n",
    "\n",
    "# 看看各特征的权重系数，系数的绝对值大小可视为该特征的重要性    展示成2围标的形式\n",
    "fs = pd.DataFrame({\"columns\":list(columns), \"coef\":list((lr.coef_.T))})\n",
    "#\"columns\":list(columns)   列名  加列的数据\n",
    "#\"coef\":list((lr.coef_.T))  列名  加列的数据\n",
    "\n",
    "fs.sort_values(by=['coef'],ascending=False)\n",
    "#以系数排序\n"
   ]
  },
  {
   "cell_type": "markdown",
   "metadata": {},
   "source": [
    "#### 3.1.1 模型评价"
   ]
  },
  {
   "cell_type": "code",
   "execution_count": 31,
   "metadata": {},
   "outputs": [
    {
     "name": "stdout",
     "output_type": "stream",
     "text": [
      "The r2 score of LinearRegression on test is 0.690295955089836\n",
      "The r2 score of LinearRegression on train is 0.7451448367308489\n"
     ]
    }
   ],
   "source": [
    "# 使用r2_score评价模型在测试集和训练集上的性能，并输出评估结果\n",
    "#测试集\n",
    "print 'The r2 score of LinearRegression on test is', r2_score(y_test, y_test_pred_lr)\n",
    "#用原来的数据和预测的数据对比评分\n",
    "\n",
    "#训练集\n",
    "print 'The r2 score of LinearRegression on train is', r2_score(y_train, y_train_pred_lr)\n",
    "#用原来的数据和预测的数据对比评分"
   ]
  },
  {
   "cell_type": "code",
   "execution_count": 33,
   "metadata": {},
   "outputs": [
    {
     "data": {
      "image/png": "[encoded data removed]",
      "text/plain": [
       "<matplotlib.figure.Figure at 0x7faba6b62710>"
      ]
     },
     "metadata": {},
     "output_type": "display_data"
    }
   ],
   "source": [
    "#在训练集上观察预测残差的分布，看是否符合模型假设：噪声为0均值的高斯噪声\n",
    "f, ax = plt.subplots(figsize=(7, 5)) \n",
    "#figsize=(7, 5)  图的大小\n",
    "\n",
    "f.tight_layout() \n",
    "#自定控制大小\n",
    "\n",
    "ax.hist(y_train - y_train_pred_lr,bins=40, label='Residuals Linear', color='b', alpha=.5); \n",
    "#y_train - y_train_pred_lr  训练集结果的残差  \n",
    "#label='Residuals Linear'  标签的名字\n",
    "#color='b' 颜色\n",
    "#alpha=.5 x轴的步长\n",
    "\n",
    "ax.set_title(\"Histogram of Residuals\") \n",
    "#设置标题\n",
    "\n",
    "ax.legend(loc='best');\n",
    "#Text(0.5,1,u'Histogram of Residuals')  ax.legend(loc='best') 不显示这段话"
   ]
  },
  {
   "cell_type": "markdown",
   "metadata": {},
   "source": [
    "残差分布和高斯分布比较匹配，但还是左skew，可能是由于数据集中有16个数据的y值为最大值，有噪声（预测残差超过2.5）"
   ]
  },
  {
   "cell_type": "code",
   "execution_count": 35,
   "metadata": {},
   "outputs": [
    {
     "data": {
      "image/png": "[encoded data removed]",
      "text/plain": [
       "<matplotlib.figure.Figure at 0x7faba69b2a50>"
      ]
     },
     "metadata": {},
     "output_type": "display_data"
    }
   ],
   "source": [
    "#还可以观察预测值与真值的散点图\n",
    "plt.figure(figsize=(4, 3))\n",
    "#图的大小\n",
    "\n",
    "plt.scatter(y_train, y_train_pred_lr)\n",
    "#定义散点图\n",
    "#y_train 训练集的数据\n",
    "#y_train_pred_lr  训练集预测后的数据\n",
    "\n",
    "plt.plot([-3, 3], [-3, 3], '--k')   #数据已经标准化，3倍标准差即可\n",
    "#设置xy轴的距离\n",
    "\n",
    "plt.axis('tight')\n",
    "#axis轴  tight  紧密连接  \n",
    "\n",
    "plt.xlabel('True price')\n",
    "#设置x轴的名字\n",
    "\n",
    "plt.ylabel('Predicted price')\n",
    "#设置y轴的名字\n",
    "\n",
    "plt.tight_layout()\n",
    "#图片自动适应\n"
   ]
  },
  {
   "cell_type": "code",
   "execution_count": 36,
   "metadata": {},
   "outputs": [
    {
     "name": "stderr",
     "output_type": "stream",
     "text": [
      "/home/chenhafoen/anaconda2/lib/python2.7/site-packages/sklearn/utils/validation.py:578: DataConversionWarning: A column-vector y was passed when a 1d array was expected. Please change the shape of y to (n_samples, ), for example using ravel().\n",
      "  y = column_or_1d(y, warn=True)\n"
     ]
    },
    {
     "data": {
      "text/plain": [
       "array([-0.1061994 ,  0.13220832,  0.0250972 ,  0.08255261, -0.17739243,\n",
       "        0.30457921, -0.00408802, -0.33746975,  0.29373728, -0.24541586,\n",
       "       -0.18925469,  0.07956107, -0.43272053])"
      ]
     },
     "execution_count": 36,
     "metadata": {},
     "output_type": "execute_result"
    }
   ],
   "source": [
    "# 线性模型，随机梯度下降优化模型参数\n",
    "# 随机梯度下降一般在大数据集上应用，其实本项目不适合用\n",
    "from sklearn.linear_model import SGDRegressor\n",
    "\n",
    "# 使用默认配置初始化线\n",
    "sgdr = SGDRegressor(max_iter=1000)\n",
    "\n",
    "# 训练：参数估计\n",
    "sgdr.fit(X_train, y_train)\n",
    "\n",
    "# 预测\n",
    "#sgdr_y_predict = sgdr.predict(X_test)\n",
    "\n",
    "#系数\n",
    "sgdr.coef_\n"
   ]
  },
  {
   "cell_type": "code",
   "execution_count": 37,
   "metadata": {},
   "outputs": [
    {
     "name": "stdout",
     "output_type": "stream",
     "text": [
      "The value of default measurement of SGDRegressor on test is 0.6908074382555542\n",
      "The value of default measurement of SGDRegressor on train is 0.7451421945208745\n"
     ]
    }
   ],
   "source": [
    "# 使用SGDRegressor模型自带的评估模块(评价准则为r2_score)，并输出评估结果\n",
    "print 'The value of default measurement of SGDRegressor on test is', sgdr.score(X_test, y_test)\n",
    "print 'The value of default measurement of SGDRegressor on train is', sgdr.score(X_train, y_train)"
   ]
  },
  {
   "cell_type": "code",
   "execution_count": 38,
   "metadata": {},
   "outputs": [],
   "source": [
    "#这里由于样本数不多，SGDRegressor可能不如LinearRegression。 sklearn建议样本数超过10万采用SGDRegressor"
   ]
  },
  {
   "cell_type": "markdown",
   "metadata": {},
   "source": [
    "### 3.2 正则化的线性回归（L2正则 --> 岭回归）"
   ]
  },
  {
   "cell_type": "code",
   "execution_count": 40,
   "metadata": {},
   "outputs": [
    {
     "name": "stdout",
     "output_type": "stream",
     "text": [
      "The r2 score of RidgeCV on test is 0.6965206504148437\n",
      "The r2 score of RidgeCV on train is 0.7439123708113828\n"
     ]
    }
   ],
   "source": [
    "#岭回归／L2正则\n",
    "#class sklearn.linear_model.RidgeCV(alphas=(0.1, 1.0, 10.0), fit_intercept=True,   \n",
    "                                   #alphas x轴的范围   fit_intercept  fit_intercept=True 迭代训练\n",
    "#                                  normalize=False, scoring=None, cv=None, gcv_mode=None, \n",
    "                                   #normalize=False  不开启标准化  scoring=None 没有得分   cv=None 没有交叉策略   gcv_mode=None 说明使用广义交叉验证执行时战略标志没有\n",
    "#                                  store_cv_values=False)\n",
    "                                   # store_cv_values=False  指示是否与每个alpha对应的交叉验证值的标志   \n",
    "from sklearn.linear_model import  RidgeCV\n",
    "\n",
    "#设置超参数（正则参数）范围\n",
    "alphas = [ 0.01, 0.1, 1, 10,100]\n",
    "#n_alphas = 20\n",
    "#alphas = np.logspace(-5,2,n_alphas)\n",
    "\n",
    "#生成一个RidgeCV实例\n",
    "ridge = RidgeCV(alphas=alphas, store_cv_values=True)  \n",
    "\n",
    "#模型训练\n",
    "ridge.fit(X_train, y_train)    \n",
    "\n",
    "#预测\n",
    "y_test_pred_ridge = ridge.predict(X_test)\n",
    "y_train_pred_ridge = ridge.predict(X_train)\n",
    "\n",
    "\n",
    "# 评估，使用r2_score评价模型在测试集和训练集上的性能\n",
    "print 'The r2 score of RidgeCV on test is', r2_score(y_test, y_test_pred_ridge)\n",
    "print 'The r2 score of RidgeCV on train is', r2_score(y_train, y_train_pred_ridge)"
   ]
  },
  {
   "cell_type": "markdown",
   "metadata": {},
   "source": [
    "### 可视化"
   ]
  },
  {
   "cell_type": "code",
   "execution_count": 41,
   "metadata": {},
   "outputs": [
    {
     "data": {
      "image/png": "[encoded data removed]",
      "text/plain": [
       "<matplotlib.figure.Figure at 0x7faba68e4090>"
      ]
     },
     "metadata": {},
     "output_type": "display_data"
    },
    {
     "name": "stdout",
     "output_type": "stream",
     "text": [
      "('alpha is:', 10.0)\n"
     ]
    },
    {
     "data": {
      "text/html": [
       "<div>\n",
       "<style scoped>\n",
       "    .dataframe tbody tr th:only-of-type {\n",
       "        vertical-align: middle;\n",
       "    }\n",
       "\n",
       "    .dataframe tbody tr th {\n",
       "        vertical-align: top;\n",
       "    }\n",
       "\n",
       "    .dataframe thead th {\n",
       "        text-align: right;\n",
       "    }\n",
       "</style>\n",
       "<table border=\"1\" class=\"dataframe\">\n",
       "  <thead>\n",
       "    <tr style=\"text-align: right;\">\n",
       "      <th></th>\n",
       "      <th>coef_lr</th>\n",
       "      <th>coef_ridge</th>\n",
       "      <th>columns</th>\n",
       "    </tr>\n",
       "  </thead>\n",
       "  <tbody>\n",
       "    <tr>\n",
       "      <th>5</th>\n",
       "      <td>[0.30530891681378025]</td>\n",
       "      <td>[0.3140095230531562]</td>\n",
       "      <td>RM</td>\n",
       "    </tr>\n",
       "    <tr>\n",
       "      <th>8</th>\n",
       "      <td>[0.2942941972949127]</td>\n",
       "      <td>[0.22375133944627693]</td>\n",
       "      <td>RAD</td>\n",
       "    </tr>\n",
       "    <tr>\n",
       "      <th>1</th>\n",
       "      <td>[0.13238196484647677]</td>\n",
       "      <td>[0.11357219128675224]</td>\n",
       "      <td>ZN</td>\n",
       "    </tr>\n",
       "    <tr>\n",
       "      <th>3</th>\n",
       "      <td>[0.0824451197457175]</td>\n",
       "      <td>[0.08574200835870949]</td>\n",
       "      <td>CHAS</td>\n",
       "    </tr>\n",
       "    <tr>\n",
       "      <th>11</th>\n",
       "      <td>[0.08015874110027914]</td>\n",
       "      <td>[0.07997069385558642]</td>\n",
       "      <td>B</td>\n",
       "    </tr>\n",
       "    <tr>\n",
       "      <th>2</th>\n",
       "      <td>[0.025206297687588752]</td>\n",
       "      <td>[-0.0006918517280852313]</td>\n",
       "      <td>INDUS</td>\n",
       "    </tr>\n",
       "    <tr>\n",
       "      <th>6</th>\n",
       "      <td>[-0.004298410016809584]</td>\n",
       "      <td>[-0.00946358935281734]</td>\n",
       "      <td>AGE</td>\n",
       "    </tr>\n",
       "    <tr>\n",
       "      <th>0</th>\n",
       "      <td>[-0.10643777294175867]</td>\n",
       "      <td>[-0.09781780534558096]</td>\n",
       "      <td>CRIM</td>\n",
       "    </tr>\n",
       "    <tr>\n",
       "      <th>4</th>\n",
       "      <td>[-0.177051234119966]</td>\n",
       "      <td>[-0.14911377956116528]</td>\n",
       "      <td>NOX</td>\n",
       "    </tr>\n",
       "    <tr>\n",
       "      <th>10</th>\n",
       "      <td>[-0.1893158468598821]</td>\n",
       "      <td>[-0.1829052464663959]</td>\n",
       "      <td>PTRATIO</td>\n",
       "    </tr>\n",
       "    <tr>\n",
       "      <th>9</th>\n",
       "      <td>[-0.24568976848877366]</td>\n",
       "      <td>[-0.17767456944646243]</td>\n",
       "      <td>TAX</td>\n",
       "    </tr>\n",
       "    <tr>\n",
       "      <th>7</th>\n",
       "      <td>[-0.3372624511468355]</td>\n",
       "      <td>[-0.3043960208735701]</td>\n",
       "      <td>DIS</td>\n",
       "    </tr>\n",
       "    <tr>\n",
       "      <th>12</th>\n",
       "      <td>[-0.4334082833774195]</td>\n",
       "      <td>[-0.417436382240814]</td>\n",
       "      <td>LSTAT</td>\n",
       "    </tr>\n",
       "  </tbody>\n",
       "</table>\n",
       "</div>"
      ],
      "text/plain": [
       "                    coef_lr                coef_ridge  columns\n",
       "5     [0.30530891681378025]      [0.3140095230531562]       RM\n",
       "8      [0.2942941972949127]     [0.22375133944627693]      RAD\n",
       "1     [0.13238196484647677]     [0.11357219128675224]       ZN\n",
       "3      [0.0824451197457175]     [0.08574200835870949]     CHAS\n",
       "11    [0.08015874110027914]     [0.07997069385558642]        B\n",
       "2    [0.025206297687588752]  [-0.0006918517280852313]    INDUS\n",
       "6   [-0.004298410016809584]    [-0.00946358935281734]      AGE\n",
       "0    [-0.10643777294175867]    [-0.09781780534558096]     CRIM\n",
       "4      [-0.177051234119966]    [-0.14911377956116528]      NOX\n",
       "10    [-0.1893158468598821]     [-0.1829052464663959]  PTRATIO\n",
       "9    [-0.24568976848877366]    [-0.17767456944646243]      TAX\n",
       "7     [-0.3372624511468355]     [-0.3043960208735701]      DIS\n",
       "12    [-0.4334082833774195]      [-0.417436382240814]    LSTAT"
      ]
     },
     "execution_count": 41,
     "metadata": {},
     "output_type": "execute_result"
    }
   ],
   "source": [
    "#拿到平均值\n",
    "mse_mean = np.mean(ridge.cv_values_, axis = 0)\n",
    "#ridge.cv_values_ 岭回归保存下来的值\n",
    "\n",
    "#设置xy轴的大小\n",
    "plt.plot(np.log10(alphas), mse_mean.reshape(len(alphas),1)) \n",
    "\n",
    "#这是为了标出最佳参数的位置，不是必须\n",
    "#plt.plot(np.log10(ridge.alpha_)*np.ones(3), [0.28, 0.29, 0.30])\n",
    "\n",
    "#设置x轴的名字\n",
    "plt.xlabel('log(alpha)')\n",
    "\n",
    "#设置y轴的名字\n",
    "plt.ylabel('mse')\n",
    "\n",
    "#展示\n",
    "plt.show()\n",
    "\n",
    "print ('alpha is:', ridge.alpha_)\n",
    "\n",
    "# 看看各特征的权重系数，系数的绝对值大小可视为该特征的重要性\n",
    "fs = pd.DataFrame({\"columns\":list(columns), \"coef_lr\":list((lr.coef_.T)), \"coef_ridge\":list((ridge.coef_.T))})\n",
    "fs.sort_values(by=['coef_lr'],ascending=False)"
   ]
  },
  {
   "cell_type": "markdown",
   "metadata": {},
   "source": [
    "### 3.3 正则化的线性回归（L1正则 --> Lasso）"
   ]
  },
  {
   "cell_type": "code",
   "execution_count": 45,
   "metadata": {},
   "outputs": [
    {
     "name": "stdout",
     "output_type": "stream",
     "text": [
      "The r2 score of LassoCV on test is 0.6909406497342754\n",
      "The r2 score of LassoCV on train is 0.7451083993631066\n"
     ]
    }
   ],
   "source": [
    "#### Lasso／L1正则\n",
    "# class sklearn.linear_model.LassoCV(eps=0.001, n_alphas=100, alphas=None, fit_intercept=True, \n",
    "#                                    normalize=False, precompute=’auto’, max_iter=1000, \n",
    "#                                    tol=0.0001, copy_X=True, cv=None, verbose=False, n_jobs=1,\n",
    "#                                    positive=False, random_state=None, selection=’cyclic’)\n",
    "from sklearn.linear_model import LassoCV\n",
    "\n",
    "#设置超参数搜索范围\n",
    "#alphas = [ 0.01, 0.1, 1, 10,100]\n",
    "\n",
    "#生成一个LassoCV实例\n",
    "#lasso = LassoCV(alphas=alphas)  \n",
    "lasso = LassoCV()  \n",
    "\n",
    "#训练（内含CV）\n",
    "lasso.fit(X_train, y_train)  \n",
    "\n",
    "#测试\n",
    "y_test_pred_lasso = lasso.predict(X_test)\n",
    "y_train_pred_lasso = lasso.predict(X_train)\n",
    "\n",
    "\n",
    "# 评估，使用r2_score评价模型在测试集和训练集上的性能\n",
    "print 'The r2 score of LassoCV on test is', r2_score(y_test, y_test_pred_lasso)\n",
    "print 'The r2 score of LassoCV on train is', r2_score(y_train, y_train_pred_lasso)"
   ]
  },
  {
   "cell_type": "code",
   "execution_count": 46,
   "metadata": {},
   "outputs": [
    {
     "data": {
      "image/png": "[encoded data removed]",
      "text/plain": [
       "<matplotlib.figure.Figure at 0x7faba6710cd0>"
      ]
     },
     "metadata": {},
     "output_type": "display_data"
    },
    {
     "name": "stdout",
     "output_type": "stream",
     "text": [
      "('alpha is:', 0.000737262921232623)\n"
     ]
    },
    {
     "data": {
      "text/html": [
       "<div>\n",
       "<style scoped>\n",
       "    .dataframe tbody tr th:only-of-type {\n",
       "        vertical-align: middle;\n",
       "    }\n",
       "\n",
       "    .dataframe tbody tr th {\n",
       "        vertical-align: top;\n",
       "    }\n",
       "\n",
       "    .dataframe thead th {\n",
       "        text-align: right;\n",
       "    }\n",
       "</style>\n",
       "<table border=\"1\" class=\"dataframe\">\n",
       "  <thead>\n",
       "    <tr style=\"text-align: right;\">\n",
       "      <th></th>\n",
       "      <th>coef_lasso</th>\n",
       "      <th>coef_lr</th>\n",
       "      <th>coef_ridge</th>\n",
       "      <th>columns</th>\n",
       "    </tr>\n",
       "  </thead>\n",
       "  <tbody>\n",
       "    <tr>\n",
       "      <th>5</th>\n",
       "      <td>0.305918</td>\n",
       "      <td>[0.30530891681378025]</td>\n",
       "      <td>[0.3140095230531562]</td>\n",
       "      <td>RM</td>\n",
       "    </tr>\n",
       "    <tr>\n",
       "      <th>8</th>\n",
       "      <td>0.282004</td>\n",
       "      <td>[0.2942941972949127]</td>\n",
       "      <td>[0.22375133944627693]</td>\n",
       "      <td>RAD</td>\n",
       "    </tr>\n",
       "    <tr>\n",
       "      <th>1</th>\n",
       "      <td>0.129133</td>\n",
       "      <td>[0.13238196484647677]</td>\n",
       "      <td>[0.11357219128675224]</td>\n",
       "      <td>ZN</td>\n",
       "    </tr>\n",
       "    <tr>\n",
       "      <th>3</th>\n",
       "      <td>0.082539</td>\n",
       "      <td>[0.0824451197457175]</td>\n",
       "      <td>[0.08574200835870949]</td>\n",
       "      <td>CHAS</td>\n",
       "    </tr>\n",
       "    <tr>\n",
       "      <th>11</th>\n",
       "      <td>0.079412</td>\n",
       "      <td>[0.08015874110027914]</td>\n",
       "      <td>[0.07997069385558642]</td>\n",
       "      <td>B</td>\n",
       "    </tr>\n",
       "    <tr>\n",
       "      <th>2</th>\n",
       "      <td>0.018266</td>\n",
       "      <td>[0.025206297687588752]</td>\n",
       "      <td>[-0.0006918517280852313]</td>\n",
       "      <td>INDUS</td>\n",
       "    </tr>\n",
       "    <tr>\n",
       "      <th>6</th>\n",
       "      <td>-0.003027</td>\n",
       "      <td>[-0.004298410016809584]</td>\n",
       "      <td>[-0.00946358935281734]</td>\n",
       "      <td>AGE</td>\n",
       "    </tr>\n",
       "    <tr>\n",
       "      <th>0</th>\n",
       "      <td>-0.104463</td>\n",
       "      <td>[-0.10643777294175867]</td>\n",
       "      <td>[-0.09781780534558096]</td>\n",
       "      <td>CRIM</td>\n",
       "    </tr>\n",
       "    <tr>\n",
       "      <th>4</th>\n",
       "      <td>-0.172111</td>\n",
       "      <td>[-0.177051234119966]</td>\n",
       "      <td>[-0.14911377956116528]</td>\n",
       "      <td>NOX</td>\n",
       "    </tr>\n",
       "    <tr>\n",
       "      <th>10</th>\n",
       "      <td>-0.187925</td>\n",
       "      <td>[-0.1893158468598821]</td>\n",
       "      <td>[-0.1829052464663959]</td>\n",
       "      <td>PTRATIO</td>\n",
       "    </tr>\n",
       "    <tr>\n",
       "      <th>9</th>\n",
       "      <td>-0.233262</td>\n",
       "      <td>[-0.24568976848877366]</td>\n",
       "      <td>[-0.17767456944646243]</td>\n",
       "      <td>TAX</td>\n",
       "    </tr>\n",
       "    <tr>\n",
       "      <th>7</th>\n",
       "      <td>-0.332661</td>\n",
       "      <td>[-0.3372624511468355]</td>\n",
       "      <td>[-0.3043960208735701]</td>\n",
       "      <td>DIS</td>\n",
       "    </tr>\n",
       "    <tr>\n",
       "      <th>12</th>\n",
       "      <td>-0.433493</td>\n",
       "      <td>[-0.4334082833774195]</td>\n",
       "      <td>[-0.417436382240814]</td>\n",
       "      <td>LSTAT</td>\n",
       "    </tr>\n",
       "  </tbody>\n",
       "</table>\n",
       "</div>"
      ],
      "text/plain": [
       "    coef_lasso                  coef_lr                coef_ridge  columns\n",
       "5     0.305918    [0.30530891681378025]      [0.3140095230531562]       RM\n",
       "8     0.282004     [0.2942941972949127]     [0.22375133944627693]      RAD\n",
       "1     0.129133    [0.13238196484647677]     [0.11357219128675224]       ZN\n",
       "3     0.082539     [0.0824451197457175]     [0.08574200835870949]     CHAS\n",
       "11    0.079412    [0.08015874110027914]     [0.07997069385558642]        B\n",
       "2     0.018266   [0.025206297687588752]  [-0.0006918517280852313]    INDUS\n",
       "6    -0.003027  [-0.004298410016809584]    [-0.00946358935281734]      AGE\n",
       "0    -0.104463   [-0.10643777294175867]    [-0.09781780534558096]     CRIM\n",
       "4    -0.172111     [-0.177051234119966]    [-0.14911377956116528]      NOX\n",
       "10   -0.187925    [-0.1893158468598821]     [-0.1829052464663959]  PTRATIO\n",
       "9    -0.233262   [-0.24568976848877366]    [-0.17767456944646243]      TAX\n",
       "7    -0.332661    [-0.3372624511468355]     [-0.3043960208735701]      DIS\n",
       "12   -0.433493    [-0.4334082833774195]      [-0.417436382240814]    LSTAT"
      ]
     },
     "execution_count": 46,
     "metadata": {},
     "output_type": "execute_result"
    }
   ],
   "source": [
    "#获取平均值\n",
    "mses = np.mean(lasso.mse_path_, axis = 1)\n",
    "#lasso.mse_path_  保存下来的结果\n",
    "\n",
    "#设置xy轴的大小\n",
    "plt.plot(np.log10(lasso.alphas_), mses) \n",
    "#plt.plot(np.log10(lasso.alphas_)*np.ones(3), [0.3, 0.4, 1.0])\n",
    "\n",
    "#设置x轴的名字\n",
    "plt.xlabel('log(alpha)')\n",
    "\n",
    "#设置y轴的名字\n",
    "plt.ylabel('mse')\n",
    "\n",
    "#展示\n",
    "plt.show()    \n",
    "            \n",
    "print ('alpha is:', lasso.alpha_)\n",
    "\n",
    "# 看看各特征的权重系数，系数的绝对值大小可视为该特征的重要性\n",
    "fs = pd.DataFrame({\"columns\":list(columns), \"coef_lr\":list((lr.coef_.T)), \"coef_ridge\":list((ridge.coef_.T)), \"coef_lasso\":list((lasso.coef_.T))})\n",
    "fs.sort_values(by=['coef_lr'],ascending=False)"
   ]
  },
  {
   "cell_type": "code",
   "execution_count": 47,
   "metadata": {},
   "outputs": [
    {
     "data": {
      "image/png": "[encoded data removed]",
      "text/plain": [
       "<matplotlib.figure.Figure at 0x7faba672c290>"
      ]
     },
     "metadata": {},
     "output_type": "display_data"
    },
    {
     "name": "stdout",
     "output_type": "stream",
     "text": [
      "('alpha is:', 0.000737262921232623)\n"
     ]
    }
   ],
   "source": [
    "#获取平均值\n",
    "mses = np.mean(lasso.mse_path_, axis = 1)\n",
    "#lasso.mse_path_  保存下来的值\n",
    "\n",
    "#设置xy轴的大小\n",
    "plt.plot(np.log10(lasso.alphas_), mses) \n",
    "#plt.plot(np.log10(lasso.alphas_)*np.ones(3), [0.3, 0.4, 1.0])\n",
    "\n",
    "#设置x轴的名字\n",
    "plt.xlabel('log(alpha)')\n",
    "\n",
    "#设置y轴的名字\n",
    "plt.ylabel('mse')\n",
    "\n",
    "#展示\n",
    "plt.show()    \n",
    "            \n",
    "print ('alpha is:', lasso.alpha_)"
   ]
  },
  {
   "cell_type": "code",
   "execution_count": null,
   "metadata": {},
   "outputs": [],
   "source": []
  }
 ],
 "metadata": {
  "kernelspec": {
   "display_name": "Python 2",
   "language": "python",
   "name": "python2"
  },
  "language_info": {
   "codemirror_mode": {
    "name": "ipython",
    "version": 2
   },
   "file_extension": ".py",
   "mimetype": "text/x-python",
   "name": "python",
   "nbconvert_exporter": "python",
   "pygments_lexer": "ipython2",
   "version": "2.7.14"
  }
 },
 "nbformat": 4,
 "nbformat_minor": 2
}
